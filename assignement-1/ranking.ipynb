{
 "cells": [
  {
   "cell_type": "code",
   "execution_count": 38,
   "id": "initial_id",
   "metadata": {
    "collapsed": true,
    "ExecuteTime": {
     "end_time": "2025-03-19T18:12:13.764330Z",
     "start_time": "2025-03-19T18:12:13.761544Z"
    }
   },
   "outputs": [],
   "source": [
    "import pandas as pd\n",
    "\n",
    "# Dependencies der Scripts\n",
    "import pdfplumber\n",
    "import pyjstat"
   ]
  },
  {
   "cell_type": "markdown",
   "source": [
    "# Die beste Gemeinde des Kantons Graubünden\n",
    "\n",
    "## Quellen\n",
    "\n"
   ],
   "metadata": {
    "collapsed": false
   },
   "id": "fbfdbcdd17eceac"
  },
  {
   "cell_type": "code",
   "outputs": [
    {
     "name": "stdout",
     "output_type": "stream",
     "text": [
      "   Code      Gemeinde\r\n",
      "0  3542  Albula/Alvra\r\n",
      "1  3955     Landquart\r\n",
      "2  3543        Surses\r\n",
      "3  3701        Andeer\r\n",
      "4  3513  Lantsch/Lenz\r\n",
      "         Gemeinde  Strassenflaeche-Hektar\r\n",
      "0     Vaz/Obervaz                      88\r\n",
      "1    Lantsch/Lenz                      24\r\n",
      "2  Schmitten (GR)                       7\r\n",
      "3    Albula/Alvra                     100\r\n",
      "4          Surses                     138\r\n"
     ]
    }
   ],
   "source": [
    "!cd scrape && python extract-codes.py\n",
    "!cd scrape && python fetch-districts.py\n"
   ],
   "metadata": {
    "collapsed": false,
    "ExecuteTime": {
     "end_time": "2025-03-19T18:27:26.959599Z",
     "start_time": "2025-03-19T18:27:24.708324Z"
    }
   },
   "id": "bf0153285ca2f547",
   "execution_count": 47
  },
  {
   "cell_type": "code",
   "outputs": [],
   "source": [
    "df_wiki = pd.read_csv('./data/scraped/wikipedia-length.csv')\n"
   ],
   "metadata": {
    "collapsed": false,
    "ExecuteTime": {
     "end_time": "2025-03-19T18:12:13.784324Z",
     "start_time": "2025-03-19T18:12:13.779930Z"
    }
   },
   "id": "a97d1ddb5a6c1da5",
   "execution_count": 39
  },
  {
   "cell_type": "code",
   "outputs": [],
   "source": [
    "df_accidents = pd.read_csv('./data/scraped/accidents.csv')\n"
   ],
   "metadata": {
    "collapsed": false,
    "ExecuteTime": {
     "end_time": "2025-03-19T18:12:13.803983Z",
     "start_time": "2025-03-19T18:12:13.799404Z"
    }
   },
   "id": "b68a7dc899357af2",
   "execution_count": 40
  },
  {
   "cell_type": "code",
   "outputs": [],
   "source": [
    "df_regionalportraits = pd.read_csv('./data/scraped/regionalportraits.csv')\n"
   ],
   "metadata": {
    "collapsed": false,
    "ExecuteTime": {
     "end_time": "2025-03-19T18:12:13.810255Z",
     "start_time": "2025-03-19T18:12:13.805844Z"
    }
   },
   "id": "5f932291a280f672",
   "execution_count": 41
  },
  {
   "cell_type": "code",
   "outputs": [],
   "source": [
    "df_streets = pd.read_csv('./data/scraped/streets.csv')\n"
   ],
   "metadata": {
    "collapsed": false,
    "ExecuteTime": {
     "end_time": "2025-03-19T18:12:13.817268Z",
     "start_time": "2025-03-19T18:12:13.811674Z"
    }
   },
   "id": "96147ddd71c038dc",
   "execution_count": 42
  },
  {
   "cell_type": "code",
   "outputs": [
    {
     "name": "stdout",
     "output_type": "stream",
     "text": [
      "Nur in Verkehrsunfall-Daten vorhanden: set()\n",
      "Nur in Wikipedia-Daten vorhanden: set()\n"
     ]
    }
   ],
   "source": [
    "gemeinden_accidents = set(df_streets['Gemeinde'].unique())\n",
    "gemeinden_wikipedia = set(df_wiki['Gemeinde'].unique())\n",
    "\n",
    "# Unterschiede feststellen\n",
    "nur_in_accidents = gemeinden_accidents - gemeinden_wikipedia\n",
    "nur_in_wikipedia = gemeinden_wikipedia - gemeinden_accidents\n",
    "\n",
    "print(\"Nur in Verkehrsunfall-Daten vorhanden:\", nur_in_accidents)\n",
    "print(\"Nur in Wikipedia-Daten vorhanden:\", nur_in_wikipedia)"
   ],
   "metadata": {
    "collapsed": false,
    "ExecuteTime": {
     "end_time": "2025-03-19T18:12:13.823882Z",
     "start_time": "2025-03-19T18:12:13.819372Z"
    }
   },
   "id": "bf0e0dd0da4c9d3f",
   "execution_count": 43
  }
 ],
 "metadata": {
  "kernelspec": {
   "display_name": "Python 3",
   "language": "python",
   "name": "python3"
  },
  "language_info": {
   "codemirror_mode": {
    "name": "ipython",
    "version": 2
   },
   "file_extension": ".py",
   "mimetype": "text/x-python",
   "name": "python",
   "nbconvert_exporter": "python",
   "pygments_lexer": "ipython2",
   "version": "2.7.6"
  }
 },
 "nbformat": 4,
 "nbformat_minor": 5
}

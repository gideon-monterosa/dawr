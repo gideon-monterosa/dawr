{
 "cells": [
  {
   "cell_type": "code",
   "execution_count": 39,
   "metadata": {
    "ExecuteTime": {
     "end_time": "2025-04-24T18:50:56.099100Z",
     "start_time": "2025-04-24T18:50:56.094638Z"
    }
   },
   "outputs": [],
   "source": [
    "import numpy as np\n",
    "import pandas as pd\n",
    "from sklearn import linear_model\n",
    "from sklearn.ensemble import GradientBoostingRegressor\n",
    "from sklearn.model_selection import cross_val_score"
   ]
  },
  {
   "cell_type": "markdown",
   "metadata": {},
   "source": [
    "# Helper Functions"
   ]
  },
  {
   "cell_type": "markdown",
   "metadata": {},
   "source": [
    "These functions train a model on your data and use cross validation to determine the average negative mean squared error. You do not have to edit these! However, it might make sense to add new helper functions here."
   ]
  },
  {
   "cell_type": "code",
   "execution_count": 40,
   "metadata": {
    "ExecuteTime": {
     "end_time": "2025-04-24T18:50:56.158695Z",
     "start_time": "2025-04-24T18:50:56.155225Z"
    }
   },
   "outputs": [],
   "source": [
    "def scoreLinear(X, y):\n",
    "    \"\"\"Trains a linear regression model and evaluates it with 3-fold cross validation.\n",
    "  \n",
    "    Parameters: \n",
    "    X (array): Training data of shape (n_samples, n_features)\n",
    "    y (array): Target values of shape (n_samples,)\n",
    "  \n",
    "    Returns: \n",
    "    Float: average score of the model after cross validation\n",
    "    \"\"\"\n",
    "    regr = linear_model.LinearRegression()\n",
    "    scores = cross_val_score(regr, X, y, cv=3, scoring='neg_mean_squared_error')\n",
    "    return scores.mean()"
   ]
  },
  {
   "cell_type": "code",
   "execution_count": 41,
   "metadata": {
    "ExecuteTime": {
     "end_time": "2025-04-24T18:50:56.183402Z",
     "start_time": "2025-04-24T18:50:56.179342Z"
    }
   },
   "outputs": [],
   "source": [
    "def scoreBoosting(X, y):\n",
    "    \"\"\"Trains a gradient boosting model and evaluates it with 3-fold cross validation.\n",
    "  \n",
    "    Parameters: \n",
    "    X (array): Training data of shape (n_samples, n_features)\n",
    "    y (array): Target values of shape (n_samples,)\n",
    "  \n",
    "    Returns: \n",
    "    Float: average score of the model after cross validation\n",
    "    \"\"\"\n",
    "    clf = GradientBoostingRegressor(n_estimators=100, learning_rate=0.1, max_depth=2, random_state=0, loss='squared_error')\n",
    "    # clf = GradientBoostingRegressor(n_estimators=100, learning_rate=0.1, max_depth=2, random_state=0, loss='ls') # older versions\n",
    "\n",
    "    scores = cross_val_score(clf, X, np.ravel(y), cv=3, scoring='neg_mean_squared_error')\n",
    "    return scores.mean()"
   ]
  },
  {
   "cell_type": "code",
   "execution_count": 42,
   "metadata": {
    "ExecuteTime": {
     "end_time": "2025-04-24T18:50:56.189298Z",
     "start_time": "2025-04-24T18:50:56.185705Z"
    }
   },
   "outputs": [],
   "source": [
    "def dataframeToXy(df, predict_column, feature_columns):\n",
    "    \"\"\"Convert the dataframe to a format usable for the ML algorithms\"\"\"\n",
    "    X = df[feature_columns].values.reshape(-1, df[feature_columns].shape[1]) # all features\n",
    "    y = df[[predict_column]].values.reshape(-1, 1) # values to predict\n",
    "    return X, y"
   ]
  },
  {
   "cell_type": "code",
   "execution_count": 43,
   "metadata": {
    "ExecuteTime": {
     "end_time": "2025-04-24T18:50:56.200860Z",
     "start_time": "2025-04-24T18:50:56.196125Z"
    }
   },
   "outputs": [],
   "source": [
    "def runScoring(df, predict_column, feature_columns):\n",
    "    \"\"\"This runs both algorithms to determine the scores for all given features in the dataset.\n",
    "    \n",
    "    Parameters: \n",
    "    df (dataframe): dataframe with Score and features\n",
    "    predict_column: name of the value to predict, e.g. 'Score'\n",
    "    feature_columns: list of all column names that are to be used as features\n",
    "  \n",
    "    Returns: \n",
    "    linear: negative mean squared error of linear regression\n",
    "    boost: negative mean squared error of boosting algorithm\n",
    "    \"\"\"\n",
    "    X, y = dataframeToXy(df, predict_column, feature_columns)\n",
    "    boost = scoreBoosting(X, y)\n",
    "    linear = scoreLinear(X, y)\n",
    "    return linear, boost"
   ]
  },
  {
   "cell_type": "code",
   "execution_count": 44,
   "metadata": {
    "ExecuteTime": {
     "end_time": "2025-04-24T18:50:56.236679Z",
     "start_time": "2025-04-24T18:50:56.233384Z"
    }
   },
   "outputs": [],
   "source": [
    "def runScoringSimple(df, predict_column):\n",
    "    \"\"\"Alternative to function above, this takes all the columns in the \n",
    "    dataframe as features except the single column which is used for the score.\n",
    "    \"\"\"\n",
    "    all_feature_columns = list(df.columns)\n",
    "    all_feature_columns.remove(predict_column)\n",
    "    return runScoring(df, predict_column, all_feature_columns)"
   ]
  },
  {
   "cell_type": "code",
   "execution_count": 45,
   "metadata": {
    "ExecuteTime": {
     "end_time": "2025-04-24T18:50:56.260727Z",
     "start_time": "2025-04-24T18:50:56.254755Z"
    }
   },
   "outputs": [],
   "source": [
    "def createBaselineRandom(df, predict_column):\n",
    "    \"\"\"creates random features and returns the average score after 20 rounds\"\"\"\n",
    "    np.random.seed(0)\n",
    "    baseline = df[['Score']].copy()\n",
    "    averageLinearScore = 0\n",
    "    averageBoostingScore = 0\n",
    "    rounds = 20\n",
    "    for i in range(rounds):\n",
    "        baseline['feature1'] = np.random.randint(0, 100, df.shape[0])\n",
    "        baseline['feature2'] = np.random.randint(0, 100, df.shape[0])\n",
    "        baseline['feature3'] = np.random.randint(0, 100, df.shape[0])\n",
    "        lin, boost = runScoring(baseline, predict_column, ['feature1', 'feature2', 'feature3'])\n",
    "        averageLinearScore += lin / rounds\n",
    "        averageBoostingScore += boost / rounds\n",
    "    print(f'linear   : {averageLinearScore}')\n",
    "    print(f'boosting : {averageBoostingScore}')"
   ]
  },
  {
   "cell_type": "markdown",
   "metadata": {},
   "source": [
    "# Load Data"
   ]
  },
  {
   "cell_type": "markdown",
   "metadata": {},
   "source": [
    "\n",
    "Recommended: Make sure you have a column named 'Score', preferably as the first column, while the name of the municipality is the index. It is fine to use your previous notebook from assignment 1 to export the data to a .csv or excel and simply import the file here, you do not have to show the code for that. Your initial dataframe should look somewhat like the one below, with more features of course."
   ]
  },
  {
   "cell_type": "code",
   "execution_count": 46,
   "metadata": {
    "ExecuteTime": {
     "end_time": "2025-04-24T18:50:56.299710Z",
     "start_time": "2025-04-24T18:50:56.263548Z"
    }
   },
   "outputs": [
    {
     "data": {
      "text/plain": "            Score  Gemeindecode  Einwohner  Einwohner_Veraenderung_Prozent  \\\nGemeinde                                                                     \nFurna        77.7          3862      202.0                        0.497512   \nSufers       74.9          3695      145.0                       12.403101   \nSafiental    65.7          3672      903.0                       -4.746835   \nFlerden      64.8          3662      247.0                        7.860262   \nValsot       62.4          3764      841.0                       -9.763948   \n...           ...           ...        ...                             ...   \nChur         36.9          3901    37082.0                        5.179260   \nLaax         36.8          3575     1885.0                       40.044577   \nFürstenau    36.5          3633      357.0                        2.000000   \nSilvaplana   34.0          3790     1132.0                       15.746421   \nSt. Moritz   27.1          3787     4882.0                       -6.151480   \n\n            Bevoelkerungsdichte_km2  Auslaender_Prozent  Alter_0_19_Jahre  \\\nGemeinde                                                                    \nFurna                      6.062425            3.465347         24.752475   \nSufers                     4.188330           10.344828         26.896552   \nSafiental                  5.963545            4.318937         20.265781   \nFlerden                   40.558292            4.048583         27.935223   \nValsot                     5.290639            7.253270         18.549346   \n...                             ...                 ...               ...   \nChur                     683.665192           20.298258         16.212718   \nLaax                      59.444970           19.734748         14.535809   \nFürstenau                270.454545           10.924370         20.728291   \nSilvaplana                25.284789           34.893993         13.339223   \nSt. Moritz               170.163820           40.434248         14.358869   \n\n            Alter_20_64_Jahre  Alter_65_Plus_Jahre  Heiratsziffer  ...  \\\nGemeinde                                                           ...   \nFurna               52.475248            22.772277       0.000000  ...   \nSufers              46.206897            26.896552       0.000000  ...   \nSafiental           54.152824            25.581395       5.543237  ...   \nFlerden             53.441296            18.623482       0.000000  ...   \nValsot              55.291320            26.159334       3.537736  ...   \n...                       ...                  ...            ...  ...   \nChur                62.442695            21.344588       4.999189  ...   \nLaax                62.493369            22.970822       6.411969  ...   \nFürstenau           55.742297            23.529412       2.816901  ...   \nSilvaplana          60.954064            25.706714       4.458315  ...   \nSt. Moritz          63.621467            22.019664       3.465851  ...   \n\n            Beschaeftigte_Sektor1  Beschaeftigte_Sektor2  \\\nGemeinde                                                   \nFurna                          56                     10   \nSufers                         30                     25   \nSafiental                     188                     61   \nFlerden                        40                      5   \nValsot                        108                    124   \n...                           ...                    ...   \nChur                          143                   4019   \nLaax                           24                    123   \nFürstenau                      13                      0   \nSilvaplana                     13                     58   \nSt. Moritz                     19                    933   \n\n            Beschaeftigte_Sektor3  Arbeitsstaetten_Total  \\\nGemeinde                                                   \nFurna                          19                     36   \nSufers                         30                     26   \nSafiental                     188                    151   \nFlerden                        29                     32   \nValsot                        158                    113   \n...                           ...                    ...   \nChur                        28858                   3813   \nLaax                         1298                    179   \nFürstenau                     169                      0   \nSilvaplana                    851                    139   \nSt. Moritz                   6233                    822   \n\n            Arbeitsstaetten_Sektor1  Arbeitsstaetten_Sektor2  \\\nGemeinde                                                       \nFurna                            19                        7   \nSufers                            8                        4   \nSafiental                        72                       14   \nFlerden                          14                        4   \nValsot                           37                       24   \n...                             ...                      ...   \nChur                             38                      373   \nLaax                             11                       29   \nFürstenau                         4                        0   \nSilvaplana                        4                       12   \nSt. Moritz                        6                       74   \n\n            Arbeitsstaetten_Sektor3  Leerwohnungsziffer  \\\nGemeinde                                                  \nFurna                            10            1.153846   \nSufers                           14            0.909091   \nSafiental                        65            0.258732   \nFlerden                          14            3.205128   \nValsot                           52            3.472222   \n...                             ...                 ...   \nChur                           3402            1.251926   \nLaax                            139            2.725681   \nFürstenau                        22            1.005025   \nSilvaplana                      123            0.804505   \nSt. Moritz                      742            3.603282   \n\n            Neubauwohnungen_pro_1000_Einwohner  Sozialhilfequote  \nGemeinde                                                          \nFurna                                14.084507              0.00  \nSufers                                0.000000              0.00  \nSafiental                             2.209945              0.00  \nFlerden                              23.622047              0.00  \nValsot                                8.149010              0.00  \n...                                        ...               ...  \nChur                                  7.438197              2.85  \nLaax                                 20.512821              0.00  \nFürstenau                             5.730659              0.00  \nSilvaplana                           15.219338              0.00  \nSt. Moritz                            6.407689              0.47  \n\n[100 rows x 32 columns]",
      "text/html": "<div>\n<style scoped>\n    .dataframe tbody tr th:only-of-type {\n        vertical-align: middle;\n    }\n\n    .dataframe tbody tr th {\n        vertical-align: top;\n    }\n\n    .dataframe thead th {\n        text-align: right;\n    }\n</style>\n<table border=\"1\" class=\"dataframe\">\n  <thead>\n    <tr style=\"text-align: right;\">\n      <th></th>\n      <th>Score</th>\n      <th>Gemeindecode</th>\n      <th>Einwohner</th>\n      <th>Einwohner_Veraenderung_Prozent</th>\n      <th>Bevoelkerungsdichte_km2</th>\n      <th>Auslaender_Prozent</th>\n      <th>Alter_0_19_Jahre</th>\n      <th>Alter_20_64_Jahre</th>\n      <th>Alter_65_Plus_Jahre</th>\n      <th>Heiratsziffer</th>\n      <th>...</th>\n      <th>Beschaeftigte_Sektor1</th>\n      <th>Beschaeftigte_Sektor2</th>\n      <th>Beschaeftigte_Sektor3</th>\n      <th>Arbeitsstaetten_Total</th>\n      <th>Arbeitsstaetten_Sektor1</th>\n      <th>Arbeitsstaetten_Sektor2</th>\n      <th>Arbeitsstaetten_Sektor3</th>\n      <th>Leerwohnungsziffer</th>\n      <th>Neubauwohnungen_pro_1000_Einwohner</th>\n      <th>Sozialhilfequote</th>\n    </tr>\n    <tr>\n      <th>Gemeinde</th>\n      <th></th>\n      <th></th>\n      <th></th>\n      <th></th>\n      <th></th>\n      <th></th>\n      <th></th>\n      <th></th>\n      <th></th>\n      <th></th>\n      <th></th>\n      <th></th>\n      <th></th>\n      <th></th>\n      <th></th>\n      <th></th>\n      <th></th>\n      <th></th>\n      <th></th>\n      <th></th>\n      <th></th>\n    </tr>\n  </thead>\n  <tbody>\n    <tr>\n      <th>Furna</th>\n      <td>77.7</td>\n      <td>3862</td>\n      <td>202.0</td>\n      <td>0.497512</td>\n      <td>6.062425</td>\n      <td>3.465347</td>\n      <td>24.752475</td>\n      <td>52.475248</td>\n      <td>22.772277</td>\n      <td>0.000000</td>\n      <td>...</td>\n      <td>56</td>\n      <td>10</td>\n      <td>19</td>\n      <td>36</td>\n      <td>19</td>\n      <td>7</td>\n      <td>10</td>\n      <td>1.153846</td>\n      <td>14.084507</td>\n      <td>0.00</td>\n    </tr>\n    <tr>\n      <th>Sufers</th>\n      <td>74.9</td>\n      <td>3695</td>\n      <td>145.0</td>\n      <td>12.403101</td>\n      <td>4.188330</td>\n      <td>10.344828</td>\n      <td>26.896552</td>\n      <td>46.206897</td>\n      <td>26.896552</td>\n      <td>0.000000</td>\n      <td>...</td>\n      <td>30</td>\n      <td>25</td>\n      <td>30</td>\n      <td>26</td>\n      <td>8</td>\n      <td>4</td>\n      <td>14</td>\n      <td>0.909091</td>\n      <td>0.000000</td>\n      <td>0.00</td>\n    </tr>\n    <tr>\n      <th>Safiental</th>\n      <td>65.7</td>\n      <td>3672</td>\n      <td>903.0</td>\n      <td>-4.746835</td>\n      <td>5.963545</td>\n      <td>4.318937</td>\n      <td>20.265781</td>\n      <td>54.152824</td>\n      <td>25.581395</td>\n      <td>5.543237</td>\n      <td>...</td>\n      <td>188</td>\n      <td>61</td>\n      <td>188</td>\n      <td>151</td>\n      <td>72</td>\n      <td>14</td>\n      <td>65</td>\n      <td>0.258732</td>\n      <td>2.209945</td>\n      <td>0.00</td>\n    </tr>\n    <tr>\n      <th>Flerden</th>\n      <td>64.8</td>\n      <td>3662</td>\n      <td>247.0</td>\n      <td>7.860262</td>\n      <td>40.558292</td>\n      <td>4.048583</td>\n      <td>27.935223</td>\n      <td>53.441296</td>\n      <td>18.623482</td>\n      <td>0.000000</td>\n      <td>...</td>\n      <td>40</td>\n      <td>5</td>\n      <td>29</td>\n      <td>32</td>\n      <td>14</td>\n      <td>4</td>\n      <td>14</td>\n      <td>3.205128</td>\n      <td>23.622047</td>\n      <td>0.00</td>\n    </tr>\n    <tr>\n      <th>Valsot</th>\n      <td>62.4</td>\n      <td>3764</td>\n      <td>841.0</td>\n      <td>-9.763948</td>\n      <td>5.290639</td>\n      <td>7.253270</td>\n      <td>18.549346</td>\n      <td>55.291320</td>\n      <td>26.159334</td>\n      <td>3.537736</td>\n      <td>...</td>\n      <td>108</td>\n      <td>124</td>\n      <td>158</td>\n      <td>113</td>\n      <td>37</td>\n      <td>24</td>\n      <td>52</td>\n      <td>3.472222</td>\n      <td>8.149010</td>\n      <td>0.00</td>\n    </tr>\n    <tr>\n      <th>...</th>\n      <td>...</td>\n      <td>...</td>\n      <td>...</td>\n      <td>...</td>\n      <td>...</td>\n      <td>...</td>\n      <td>...</td>\n      <td>...</td>\n      <td>...</td>\n      <td>...</td>\n      <td>...</td>\n      <td>...</td>\n      <td>...</td>\n      <td>...</td>\n      <td>...</td>\n      <td>...</td>\n      <td>...</td>\n      <td>...</td>\n      <td>...</td>\n      <td>...</td>\n      <td>...</td>\n    </tr>\n    <tr>\n      <th>Chur</th>\n      <td>36.9</td>\n      <td>3901</td>\n      <td>37082.0</td>\n      <td>5.179260</td>\n      <td>683.665192</td>\n      <td>20.298258</td>\n      <td>16.212718</td>\n      <td>62.442695</td>\n      <td>21.344588</td>\n      <td>4.999189</td>\n      <td>...</td>\n      <td>143</td>\n      <td>4019</td>\n      <td>28858</td>\n      <td>3813</td>\n      <td>38</td>\n      <td>373</td>\n      <td>3402</td>\n      <td>1.251926</td>\n      <td>7.438197</td>\n      <td>2.85</td>\n    </tr>\n    <tr>\n      <th>Laax</th>\n      <td>36.8</td>\n      <td>3575</td>\n      <td>1885.0</td>\n      <td>40.044577</td>\n      <td>59.444970</td>\n      <td>19.734748</td>\n      <td>14.535809</td>\n      <td>62.493369</td>\n      <td>22.970822</td>\n      <td>6.411969</td>\n      <td>...</td>\n      <td>24</td>\n      <td>123</td>\n      <td>1298</td>\n      <td>179</td>\n      <td>11</td>\n      <td>29</td>\n      <td>139</td>\n      <td>2.725681</td>\n      <td>20.512821</td>\n      <td>0.00</td>\n    </tr>\n    <tr>\n      <th>Fürstenau</th>\n      <td>36.5</td>\n      <td>3633</td>\n      <td>357.0</td>\n      <td>2.000000</td>\n      <td>270.454545</td>\n      <td>10.924370</td>\n      <td>20.728291</td>\n      <td>55.742297</td>\n      <td>23.529412</td>\n      <td>2.816901</td>\n      <td>...</td>\n      <td>13</td>\n      <td>0</td>\n      <td>169</td>\n      <td>0</td>\n      <td>4</td>\n      <td>0</td>\n      <td>22</td>\n      <td>1.005025</td>\n      <td>5.730659</td>\n      <td>0.00</td>\n    </tr>\n    <tr>\n      <th>Silvaplana</th>\n      <td>34.0</td>\n      <td>3790</td>\n      <td>1132.0</td>\n      <td>15.746421</td>\n      <td>25.284789</td>\n      <td>34.893993</td>\n      <td>13.339223</td>\n      <td>60.954064</td>\n      <td>25.706714</td>\n      <td>4.458315</td>\n      <td>...</td>\n      <td>13</td>\n      <td>58</td>\n      <td>851</td>\n      <td>139</td>\n      <td>4</td>\n      <td>12</td>\n      <td>123</td>\n      <td>0.804505</td>\n      <td>15.219338</td>\n      <td>0.00</td>\n    </tr>\n    <tr>\n      <th>St. Moritz</th>\n      <td>27.1</td>\n      <td>3787</td>\n      <td>4882.0</td>\n      <td>-6.151480</td>\n      <td>170.163820</td>\n      <td>40.434248</td>\n      <td>14.358869</td>\n      <td>63.621467</td>\n      <td>22.019664</td>\n      <td>3.465851</td>\n      <td>...</td>\n      <td>19</td>\n      <td>933</td>\n      <td>6233</td>\n      <td>822</td>\n      <td>6</td>\n      <td>74</td>\n      <td>742</td>\n      <td>3.603282</td>\n      <td>6.407689</td>\n      <td>0.47</td>\n    </tr>\n  </tbody>\n</table>\n<p>100 rows × 32 columns</p>\n</div>"
     },
     "execution_count": 46,
     "metadata": {},
     "output_type": "execute_result"
    }
   ],
   "source": [
    "def load_df():\n",
    "    ranking_df = pd.read_csv('./data/ranking.csv')\n",
    "    regio_df = pd.read_csv('./data/regionalportraits.csv')\n",
    "    return pd.merge(ranking_df, regio_df, on='Gemeinde', how='inner').set_index('Gemeinde') \n",
    "\n",
    "df = load_df()\n",
    "\n",
    "df"
   ]
  },
  {
   "cell_type": "markdown",
   "metadata": {},
   "source": [
    "These are the features that were used to create the original ranking in Assignment 1. Make sure these features are not in your dataset from now on. \n",
    "\n",
    "**Original Features:**\n",
    "\n",
    "- forest_score\n",
    "- family_score\n",
    "- wiki_score\n",
    "- accident_score\n",
    "- street_score\n"
   ]
  },
  {
   "cell_type": "markdown",
   "metadata": {},
   "source": [
    "# Get a first baseline for your model with random values"
   ]
  },
  {
   "cell_type": "code",
   "execution_count": 47,
   "metadata": {
    "ExecuteTime": {
     "end_time": "2025-04-24T18:50:58.867488Z",
     "start_time": "2025-04-24T18:50:56.301851Z"
    }
   },
   "outputs": [
    {
     "name": "stdout",
     "output_type": "stream",
     "text": [
      "linear   : -123.77997079595366\n",
      "boosting : -144.13316606570183\n"
     ]
    }
   ],
   "source": [
    "# This code creates a baseline for your model, using random features\n",
    "createBaselineRandom(df, 'Score')"
   ]
  },
  {
   "cell_type": "markdown",
   "metadata": {},
   "source": [
    "**WARNING**: This uses the same dataframe for both the linear model and the boosting model. In your code you will want to use different ones for the different models. Your goal is to get both of these scores to as close as 0 as possible and most likely you will need to do different steps for linear regression and for gradient boosting and therefore have different features. "
   ]
  },
  {
   "cell_type": "markdown",
   "metadata": {},
   "source": [
    "# Get a second baseline by using all features you have"
   ]
  },
  {
   "cell_type": "code",
   "execution_count": 48,
   "metadata": {
    "ExecuteTime": {
     "end_time": "2025-04-24T18:50:59.088363Z",
     "start_time": "2025-04-24T18:50:58.869224Z"
    }
   },
   "outputs": [
    {
     "name": "stdout",
     "output_type": "stream",
     "text": [
      "linear   : -88.86384751874573\n",
      "boosting : -61.653726956689525\n"
     ]
    }
   ],
   "source": [
    "# this assumes we have a dataframe with a column named Score and all other columns are features.\n",
    "# You might have to change this code if your dataframe looks different.\n",
    "\n",
    "linear, boost = runScoringSimple(df, 'Score')\n",
    "print(f'linear   : {linear}')\n",
    "print(f'boosting : {boost}')"
   ]
  },
  {
   "cell_type": "markdown",
   "metadata": {},
   "source": [
    "# Extend your features and add something of a geographic nature"
   ]
  },
  {
   "cell_type": "markdown",
   "metadata": {},
   "source": [
    "Take the features you have loaded above and potentially extend it with the data from the gemeindeporträts 2021. Now you can extend this with some kind of geographic information. This can be pretty much anything that uses coordinates, height, relative position to other features etc. Try to find something reasonable that might help you, but don't worry if you find out during your feature engineering that it is not helpful, you are not required to use the feature for your final model."
   ]
  },
  {
   "cell_type": "code",
   "execution_count": 49,
   "metadata": {
    "ExecuteTime": {
     "end_time": "2025-04-24T18:50:59.092732Z",
     "start_time": "2025-04-24T18:50:59.090185Z"
    }
   },
   "outputs": [],
   "source": [
    "# TODO: Insert your code to get a geographic feature here"
   ]
  },
  {
   "cell_type": "markdown",
   "metadata": {},
   "source": [
    "# Do your own feature engineering here"
   ]
  },
  {
   "cell_type": "markdown",
   "metadata": {},
   "source": [
    "Your goal is to find the right features to get both scores as close to 0 as possible. Add more columns to your dataframe through feature engineering and choose which ones of those you will use for the machine learning models. Use the methods discussed in class to improve your results even further."
   ]
  },
  {
   "cell_type": "code",
   "execution_count": 50,
   "metadata": {
    "ExecuteTime": {
     "end_time": "2025-04-24T18:50:59.099424Z",
     "start_time": "2025-04-24T18:50:59.096458Z"
    }
   },
   "outputs": [],
   "source": [
    "#TODO: Insert your code here "
   ]
  },
  {
   "cell_type": "code",
   "execution_count": 50,
   "metadata": {
    "ExecuteTime": {
     "end_time": "2025-04-24T18:50:59.103572Z",
     "start_time": "2025-04-24T18:50:59.101081Z"
    }
   },
   "outputs": [],
   "source": []
  }
 ],
 "metadata": {
  "kernelspec": {
   "display_name": "Python 3",
   "language": "python",
   "name": "python3"
  },
  "language_info": {
   "codemirror_mode": {
    "name": "ipython",
    "version": 3
   },
   "file_extension": ".py",
   "mimetype": "text/x-python",
   "name": "python",
   "nbconvert_exporter": "python",
   "pygments_lexer": "ipython3",
   "version": "3.8.3"
  }
 },
 "nbformat": 4,
 "nbformat_minor": 2
}

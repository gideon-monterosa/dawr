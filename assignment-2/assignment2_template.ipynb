{
 "cells": [
  {
   "cell_type": "code",
   "execution_count": 1,
   "metadata": {},
   "outputs": [],
   "source": [
    "import numpy as np\n",
    "import pandas as pd\n",
    "from sklearn import linear_model\n",
    "from sklearn.ensemble import GradientBoostingRegressor\n",
    "from sklearn.model_selection import cross_val_score"
   ]
  },
  {
   "cell_type": "markdown",
   "metadata": {},
   "source": [
    "# Helper Functions"
   ]
  },
  {
   "cell_type": "markdown",
   "metadata": {},
   "source": [
    "These functions train a model on your data and use cross validation to determine the average negative mean squared error. You do not have to edit these! However, it might make sense to add new helper functions here."
   ]
  },
  {
   "cell_type": "code",
   "execution_count": 2,
   "metadata": {},
   "outputs": [],
   "source": [
    "def scoreLinear(X, y):\n",
    "    \"\"\"Trains a linear regression model and evaluates it with 3-fold cross validation.\n",
    "  \n",
    "    Parameters: \n",
    "    X (array): Training data of shape (n_samples, n_features)\n",
    "    y (array): Target values of shape (n_samples,)\n",
    "  \n",
    "    Returns: \n",
    "    Float: average score of the model after cross validation\n",
    "    \"\"\"\n",
    "    regr = linear_model.LinearRegression()\n",
    "    scores = cross_val_score(regr, X, y, cv=3, scoring='neg_mean_squared_error')\n",
    "    return scores.mean()"
   ]
  },
  {
   "cell_type": "code",
   "execution_count": 3,
   "metadata": {},
   "outputs": [],
   "source": [
    "def scoreBoosting(X, y):\n",
    "    \"\"\"Trains a gradient boosting model and evaluates it with 3-fold cross validation.\n",
    "  \n",
    "    Parameters: \n",
    "    X (array): Training data of shape (n_samples, n_features)\n",
    "    y (array): Target values of shape (n_samples,)\n",
    "  \n",
    "    Returns: \n",
    "    Float: average score of the model after cross validation\n",
    "    \"\"\"\n",
    "    clf = GradientBoostingRegressor(n_estimators=100, learning_rate=0.1, max_depth=2, random_state=0, loss='squared_error')\n",
    "    # clf = GradientBoostingRegressor(n_estimators=100, learning_rate=0.1, max_depth=2, random_state=0, loss='ls') # older versions\n",
    "\n",
    "    scores = cross_val_score(clf, X, np.ravel(y), cv=3, scoring='neg_mean_squared_error')\n",
    "    return scores.mean()"
   ]
  },
  {
   "cell_type": "code",
   "execution_count": 4,
   "metadata": {},
   "outputs": [],
   "source": [
    "def dataframeToXy(df, predict_column, feature_columns):\n",
    "    \"\"\"Convert the dataframe to a format usable for the ML algorithms\"\"\"\n",
    "    X = df[feature_columns].values.reshape(-1, df[feature_columns].shape[1]) # all features\n",
    "    y = df[[predict_column]].values.reshape(-1, 1) # values to predict\n",
    "    return X, y"
   ]
  },
  {
   "cell_type": "code",
   "execution_count": 5,
   "metadata": {},
   "outputs": [],
   "source": [
    "def runScoring(df, predict_column, feature_columns):\n",
    "    \"\"\"This runs both algorithms to determine the scores for all given features in the dataset.\n",
    "    \n",
    "    Parameters: \n",
    "    df (dataframe): dataframe with Score and features\n",
    "    predict_column: name of the value to predict, e.g. 'Score'\n",
    "    feature_columns: list of all column names that are to be used as features\n",
    "  \n",
    "    Returns: \n",
    "    linear: negative mean squared error of linear regression\n",
    "    boost: negative mean squared error of boosting algorithm\n",
    "    \"\"\"\n",
    "    X, y = dataframeToXy(df, predict_column, feature_columns)\n",
    "    boost = scoreBoosting(X, y)\n",
    "    linear = scoreLinear(X, y)\n",
    "    return linear, boost"
   ]
  },
  {
   "cell_type": "code",
   "execution_count": 6,
   "metadata": {},
   "outputs": [],
   "source": [
    "def runScoringSimple(df, predict_column):\n",
    "    \"\"\"Alternative to function above, this takes all the columns in the \n",
    "    dataframe as features except the single column which is used for the score.\n",
    "    \"\"\"\n",
    "    all_feature_columns = list(df.columns)\n",
    "    all_feature_columns.remove(predict_column)\n",
    "    return runScoring(df, predict_column, all_feature_columns)"
   ]
  },
  {
   "cell_type": "code",
   "execution_count": 7,
   "metadata": {},
   "outputs": [],
   "source": [
    "def createBaselineRandom(df, predict_column):\n",
    "    \"\"\"creates random features and returns the average score after 20 rounds\"\"\"\n",
    "    np.random.seed(0)\n",
    "    baseline = df[['Score']].copy()\n",
    "    averageLinearScore = 0\n",
    "    averageBoostingScore = 0\n",
    "    rounds = 20\n",
    "    for i in range(rounds):\n",
    "        baseline['feature1'] = np.random.randint(0, 100, df.shape[0])\n",
    "        baseline['feature2'] = np.random.randint(0, 100, df.shape[0])\n",
    "        baseline['feature3'] = np.random.randint(0, 100, df.shape[0])\n",
    "        lin, boost = runScoring(baseline, predict_column, ['feature1', 'feature2', 'feature3'])\n",
    "        averageLinearScore += lin / rounds\n",
    "        averageBoostingScore += boost / rounds\n",
    "    print(f'linear   : {averageLinearScore}')\n",
    "    print(f'boosting : {averageBoostingScore}')"
   ]
  },
  {
   "cell_type": "markdown",
   "metadata": {},
   "source": [
    "# Load Data"
   ]
  },
  {
   "cell_type": "markdown",
   "metadata": {},
   "source": [
    "Recommended: Make sure you have a column named 'Score', preferably as the first column, while the name of the municipality is the index. It is fine to use your previous notebook from assignment 1 to export the data to a .csv or excel and simply import the file here, you do not have to show the code for that. Your initial dataframe should look somewhat like the one below, with more features of course."
   ]
  },
  {
   "cell_type": "code",
   "execution_count": 8,
   "metadata": {},
   "outputs": [
    {
     "data": {
      "text/html": [
       "<div>\n",
       "<style scoped>\n",
       "    .dataframe tbody tr th:only-of-type {\n",
       "        vertical-align: middle;\n",
       "    }\n",
       "\n",
       "    .dataframe tbody tr th {\n",
       "        vertical-align: top;\n",
       "    }\n",
       "\n",
       "    .dataframe thead th {\n",
       "        text-align: right;\n",
       "    }\n",
       "</style>\n",
       "<table border=\"1\" class=\"dataframe\">\n",
       "  <thead>\n",
       "    <tr style=\"text-align: right;\">\n",
       "      <th></th>\n",
       "      <th>Score</th>\n",
       "      <th>Luftqualität</th>\n",
       "    </tr>\n",
       "    <tr>\n",
       "      <th>Gemeinde</th>\n",
       "      <th></th>\n",
       "      <th></th>\n",
       "    </tr>\n",
       "  </thead>\n",
       "  <tbody>\n",
       "    <tr>\n",
       "      <th>Neverwinter</th>\n",
       "      <td>90</td>\n",
       "      <td>1200</td>\n",
       "    </tr>\n",
       "    <tr>\n",
       "      <th>Novigrad</th>\n",
       "      <td>82</td>\n",
       "      <td>400</td>\n",
       "    </tr>\n",
       "    <tr>\n",
       "      <th>Pallet Town</th>\n",
       "      <td>75</td>\n",
       "      <td>700</td>\n",
       "    </tr>\n",
       "    <tr>\n",
       "      <th>Lothric</th>\n",
       "      <td>50</td>\n",
       "      <td>730</td>\n",
       "    </tr>\n",
       "    <tr>\n",
       "      <th>Los Santos</th>\n",
       "      <td>42</td>\n",
       "      <td>640</td>\n",
       "    </tr>\n",
       "    <tr>\n",
       "      <th>City 17</th>\n",
       "      <td>32</td>\n",
       "      <td>500</td>\n",
       "    </tr>\n",
       "    <tr>\n",
       "      <th>The Citadel</th>\n",
       "      <td>15</td>\n",
       "      <td>180</td>\n",
       "    </tr>\n",
       "    <tr>\n",
       "      <th>New Vegas</th>\n",
       "      <td>9</td>\n",
       "      <td>210</td>\n",
       "    </tr>\n",
       "    <tr>\n",
       "      <th>Rapture</th>\n",
       "      <td>8</td>\n",
       "      <td>80</td>\n",
       "    </tr>\n",
       "    <tr>\n",
       "      <th>Grestin</th>\n",
       "      <td>2</td>\n",
       "      <td>10</td>\n",
       "    </tr>\n",
       "  </tbody>\n",
       "</table>\n",
       "</div>"
      ],
      "text/plain": [
       "             Score  Luftqualität\n",
       "Gemeinde                        \n",
       "Neverwinter     90          1200\n",
       "Novigrad        82           400\n",
       "Pallet Town     75           700\n",
       "Lothric         50           730\n",
       "Los Santos      42           640\n",
       "City 17         32           500\n",
       "The Citadel     15           180\n",
       "New Vegas        9           210\n",
       "Rapture          8            80\n",
       "Grestin          2            10"
      ]
     },
     "execution_count": 8,
     "metadata": {},
     "output_type": "execute_result"
    }
   ],
   "source": [
    "# TODO: REPLACE THIS WITH YOUR OWN DATA\n",
    "demodata = {'Gemeinde': ['Neverwinter','Novigrad','Pallet Town','Lothric','Los Santos','City 17','The Citadel','New Vegas', 'Rapture','Grestin'],\n",
    "        'Score': [90,82,75,50,42,32,15,9,8,2],\n",
    "        'Luftqualität': [1200, 400, 700, 730, 640, 500, 180, 210, 80, 10]\n",
    "        }\n",
    "df = pd.DataFrame(demodata).set_index('Gemeinde')\n",
    "df"
   ]
  },
  {
   "cell_type": "markdown",
   "metadata": {},
   "source": [
    "These are the features that were used to create the original ranking in Assignment 1. Make sure these features are not in your dataset from now on. \n",
    "**TODO: Please write down your original features here!**\n"
   ]
  },
  {
   "cell_type": "code",
   "execution_count": 9,
   "metadata": {},
   "outputs": [],
   "source": [
    "# TODO: Write down your original features here!"
   ]
  },
  {
   "cell_type": "markdown",
   "metadata": {},
   "source": [
    "# Get a first baseline for your model with random values"
   ]
  },
  {
   "cell_type": "code",
   "execution_count": 10,
   "metadata": {},
   "outputs": [
    {
     "name": "stdout",
     "output_type": "stream",
     "text": [
      "linear   : -3018.872880199688\n",
      "boosting : -2526.4952918755994\n"
     ]
    }
   ],
   "source": [
    "# This code creates a baseline for your model, using random features\n",
    "createBaselineRandom(df, 'Score')"
   ]
  },
  {
   "cell_type": "markdown",
   "metadata": {},
   "source": [
    "**WARNING**: This uses the same dataframe for both the linear model and the boosting model. In your code you will want to use different ones for the different models. Your goal is to get both of these scores to as close as 0 as possible and most likely you will need to do different steps for linear regression and for gradient boosting and therefore have different features. "
   ]
  },
  {
   "cell_type": "markdown",
   "metadata": {},
   "source": [
    "# Get a second baseline by using all features you have"
   ]
  },
  {
   "cell_type": "code",
   "execution_count": 11,
   "metadata": {},
   "outputs": [
    {
     "name": "stdout",
     "output_type": "stream",
     "text": [
      "linear   : -530.3480725643922\n",
      "boosting : -929.6503901359321\n"
     ]
    }
   ],
   "source": [
    "# this assumes we have a dataframe with a column named Score and all other columns are features.\n",
    "# You might have to change this code if your dataframe looks different.\n",
    "\n",
    "linear, boost = runScoringSimple(df, 'Score')\n",
    "print(f'linear   : {linear}')\n",
    "print(f'boosting : {boost}')"
   ]
  },
  {
   "cell_type": "markdown",
   "metadata": {},
   "source": [
    "# Extend your features and add something of a geographic nature"
   ]
  },
  {
   "cell_type": "markdown",
   "metadata": {},
   "source": [
    "Take the features you have loaded above and potentially extend it with the data from the gemeindeporträts 2021. Now you can extend this with some kind of geographic information. This can be pretty much anything that uses coordinates, height, relative position to other features etc. Try to find something reasonable that might help you, but don't worry if you find out during your feature engineering that it is not helpful, you are not required to use the feature for your final model."
   ]
  },
  {
   "cell_type": "code",
   "execution_count": 12,
   "metadata": {},
   "outputs": [],
   "source": [
    "# TODO: Insert your code to get a geographic feature here"
   ]
  },
  {
   "cell_type": "markdown",
   "metadata": {},
   "source": [
    "# Do your own feature engineering here"
   ]
  },
  {
   "cell_type": "markdown",
   "metadata": {},
   "source": [
    "Your goal is to find the right features to get both scores as close to 0 as possible. Add more columns to your dataframe through feature engineering and choose which ones of those you will use for the machine learning models. Use the methods discussed in class to improve your results even further."
   ]
  },
  {
   "cell_type": "code",
   "execution_count": 13,
   "metadata": {},
   "outputs": [],
   "source": [
    "#TODO: Insert your code here "
   ]
  },
  {
   "cell_type": "code",
   "execution_count": null,
   "metadata": {},
   "outputs": [],
   "source": []
  }
 ],
 "metadata": {
  "kernelspec": {
   "display_name": "Python 3",
   "language": "python",
   "name": "python3"
  },
  "language_info": {
   "codemirror_mode": {
    "name": "ipython",
    "version": 3
   },
   "file_extension": ".py",
   "mimetype": "text/x-python",
   "name": "python",
   "nbconvert_exporter": "python",
   "pygments_lexer": "ipython3",
   "version": "3.8.3"
  }
 },
 "nbformat": 4,
 "nbformat_minor": 2
}
